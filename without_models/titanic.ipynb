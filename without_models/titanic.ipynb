{
 "cells": [
  {
   "cell_type": "code",
   "execution_count": 23,
   "id": "6fa5cfba-d880-49fc-b08f-04b6f9721924",
   "metadata": {},
   "outputs": [],
   "source": [
    "import numpy as np\n",
    "import pandas as pd\n",
    "import warnings\n",
    "warnings.filterwarnings(\"ignore\")"
   ]
  },
  {
   "cell_type": "code",
   "execution_count": 2,
   "id": "fee69ec1-8805-45d9-abd1-9acba1fd80d6",
   "metadata": {},
   "outputs": [],
   "source": [
    "df=pd.read_csv('titanic.csv')"
   ]
  },
  {
   "cell_type": "code",
   "execution_count": 5,
   "id": "0fe9b830-9f39-40ac-b214-6105e8498f54",
   "metadata": {},
   "outputs": [
    {
     "data": {
      "text/plain": [
       "PassengerId      0\n",
       "Survived         0\n",
       "Pclass           0\n",
       "Name             0\n",
       "Sex              0\n",
       "Age            177\n",
       "SibSp            0\n",
       "Parch            0\n",
       "Ticket           0\n",
       "Fare             0\n",
       "Cabin          687\n",
       "Embarked         2\n",
       "dtype: int64"
      ]
     },
     "execution_count": 5,
     "metadata": {},
     "output_type": "execute_result"
    }
   ],
   "source": [
    "df.isnull().sum()"
   ]
  },
  {
   "cell_type": "code",
   "execution_count": 8,
   "id": "eddd073c-12e1-4c30-8639-1581ed054ee5",
   "metadata": {},
   "outputs": [],
   "source": [
    "np.random.seed(8)\n",
    "df=df.sample(frac=1,ignore_index=True)\n"
   ]
  },
  {
   "cell_type": "code",
   "execution_count": 28,
   "id": "aeed52f6-588a-4af4-a261-0ec8bf1ae571",
   "metadata": {},
   "outputs": [],
   "source": [
    "div=int(df.shape[0]//4)\n",
    "train=df.loc[:3*div+1,:]\n",
    "test=df.loc[3*div+1:]"
   ]
  },
  {
   "cell_type": "code",
   "execution_count": 29,
   "id": "11fe3989-774b-4140-93a8-782b83226ff7",
   "metadata": {},
   "outputs": [],
   "source": [
    "test['simple_mode']=train['Survived'].mode()[0]"
   ]
  },
  {
   "cell_type": "code",
   "execution_count": 13,
   "id": "243d1f14-80a6-4d91-a410-d429601bea9b",
   "metadata": {},
   "outputs": [],
   "source": [
    "from sklearn.metrics import accuracy_score"
   ]
  },
  {
   "cell_type": "code",
   "execution_count": 30,
   "id": "aba7ad38-1acf-437e-8eee-b59d28b391a5",
   "metadata": {},
   "outputs": [
    {
     "data": {
      "text/plain": [
       "0.6160714285714286"
      ]
     },
     "execution_count": 30,
     "metadata": {},
     "output_type": "execute_result"
    }
   ],
   "source": [
    "accuracy_score(test['Survived'],test['simple_mode'])"
   ]
  },
  {
   "cell_type": "code",
   "execution_count": 31,
   "id": "ac9591eb-3f5a-43fc-b076-9cd42865a082",
   "metadata": {},
   "outputs": [
    {
     "data": {
      "text/html": [
       "<div>\n",
       "<style scoped>\n",
       "    .dataframe tbody tr th:only-of-type {\n",
       "        vertical-align: middle;\n",
       "    }\n",
       "\n",
       "    .dataframe tbody tr th {\n",
       "        vertical-align: top;\n",
       "    }\n",
       "\n",
       "    .dataframe thead th {\n",
       "        text-align: right;\n",
       "    }\n",
       "</style>\n",
       "<table border=\"1\" class=\"dataframe\">\n",
       "  <thead>\n",
       "    <tr style=\"text-align: right;\">\n",
       "      <th>Sex</th>\n",
       "      <th>female</th>\n",
       "      <th>male</th>\n",
       "    </tr>\n",
       "    <tr>\n",
       "      <th>Survived</th>\n",
       "      <th></th>\n",
       "      <th></th>\n",
       "    </tr>\n",
       "  </thead>\n",
       "  <tbody>\n",
       "    <tr>\n",
       "      <th>0</th>\n",
       "      <td>63</td>\n",
       "      <td>349</td>\n",
       "    </tr>\n",
       "    <tr>\n",
       "      <th>1</th>\n",
       "      <td>171</td>\n",
       "      <td>85</td>\n",
       "    </tr>\n",
       "  </tbody>\n",
       "</table>\n",
       "</div>"
      ],
      "text/plain": [
       "Sex       female  male\n",
       "Survived              \n",
       "0             63   349\n",
       "1            171    85"
      ]
     },
     "execution_count": 31,
     "metadata": {},
     "output_type": "execute_result"
    }
   ],
   "source": [
    "pd.crosstab(train['Survived'],train['Sex'])"
   ]
  },
  {
   "cell_type": "code",
   "execution_count": 36,
   "id": "4fd64db1-3c35-45b5-8085-03a8643e52b7",
   "metadata": {},
   "outputs": [],
   "source": [
    "test['gender_mode']=0\n",
    "for i in  train['Sex'].unique():\n",
    "    test['gender_mode'][test['Sex']==i]=train['Survived'][train['Sex']==i].mode()[0]"
   ]
  },
  {
   "cell_type": "code",
   "execution_count": 37,
   "id": "6ace5577-96b9-4dc4-9819-cf7c0d3eb41d",
   "metadata": {},
   "outputs": [
    {
     "data": {
      "text/plain": [
       "0.8125"
      ]
     },
     "execution_count": 37,
     "metadata": {},
     "output_type": "execute_result"
    }
   ],
   "source": [
    "accuracy_score(test['Survived'],test['gender_mode'])"
   ]
  },
  {
   "cell_type": "code",
   "execution_count": 34,
   "id": "d54b3f3f-02dd-4d34-8860-0260e2ba3ddd",
   "metadata": {},
   "outputs": [],
   "source": [
    "test['gender_class_mode']=0\n",
    "test['gender_mode']=0\n",
    "for i in  train['Sex'].unique():\n",
    "    for j in train['Cabin'].unique():\n",
    "        test['gender_class_mode'][(test['Sex']==i) & (train['Pclass']==j)]=train['Survived'][(train['Sex']==i) & (train['Pclass']==j\n",
    "                                                                                                       )].mode()[0]"
   ]
  },
  {
   "cell_type": "code",
   "execution_count": 35,
   "id": "13e225b9-fc62-4ab3-9e3a-508afa25bf1d",
   "metadata": {},
   "outputs": [
    {
     "data": {
      "text/plain": [
       "0.6160714285714286"
      ]
     },
     "execution_count": 35,
     "metadata": {},
     "output_type": "execute_result"
    }
   ],
   "source": [
    "accuracy_score(test['Survived'],test['gender_mode'])"
   ]
  },
  {
   "cell_type": "code",
   "execution_count": 38,
   "id": "916c9d2a-91a4-461e-b4c8-0a2746073987",
   "metadata": {},
   "outputs": [
    {
     "data": {
      "text/plain": [
       "array([nan, 'B41', 'B94', 'A19', 'C124', 'D7', 'D20', 'C78', 'D', 'A10',\n",
       "       'C7', 'B28', 'E77', 'B73', 'C106', 'C22 C26', 'C65', 'E67', 'E36',\n",
       "       'F33', 'C87', 'C62 C64', 'E33', 'C50', 'C99', 'B69', 'E121', 'B35',\n",
       "       'B49', 'B96 B98', 'B50', 'C92', 'E58', 'F2', 'B58 B60', 'A16',\n",
       "       'C111', 'F G73', 'C83', 'B102', 'E25', 'C93', 'B57 B59 B63 B66',\n",
       "       'D47', 'F4', 'D28', 'C68', 'A7', 'B80', 'C52', 'C90', 'B42',\n",
       "       'C118', 'D46', 'C54'], dtype=object)"
      ]
     },
     "execution_count": 38,
     "metadata": {},
     "output_type": "execute_result"
    }
   ],
   "source": [
    "test.Cabin.unique()"
   ]
  }
 ],
 "metadata": {
  "kernelspec": {
   "display_name": "Python 3 (ipykernel)",
   "language": "python",
   "name": "python3"
  },
  "language_info": {
   "codemirror_mode": {
    "name": "ipython",
    "version": 3
   },
   "file_extension": ".py",
   "mimetype": "text/x-python",
   "name": "python",
   "nbconvert_exporter": "python",
   "pygments_lexer": "ipython3",
   "version": "3.12.2"
  }
 },
 "nbformat": 4,
 "nbformat_minor": 5
}
